{
 "cells": [
  {
   "cell_type": "code",
   "execution_count": null,
   "metadata": {
    "collapsed": true
   },
   "outputs": [],
   "source": [
    "Assigments on if while and for statement:\n",
    "................................................................................\n",
    "a. Check whether given number is prime,even,perfect,odd number\n",
    "b. Take the input from the user for(Total number of people, toatl number of busses, Number of seats for bus). Based on the input\n",
    "\tDeside whether there is sufficient busses or not.\n",
    "c. Print the first 100 odd numbers\n",
    "d. Determine the factors of a number entered  by the user\n",
    "e. Play a number guessing game (User enters a guess, you print YES or Higher or Lower)\n",
    "F. Take two numbers from the user a,b check whether a is divisible by b or not?\n",
    "g. Given an age, figure out whether someone's a baby, toddler, child, teenager, adult or old codger.\n",
    "h. Find the sum of all the multiples of 3 or 5 below 1000"
   ]
  },
  {
   "cell_type": "code",
   "execution_count": null,
   "metadata": {
    "collapsed": true
   },
   "outputs": [],
   "source": [
    "Assignments on Files:\n",
    ".....................................................................................\n",
    "\n",
    "1. copy 1 file content in to another file\n",
    "2. delete,replace mentioned word from a file \n",
    "3. number of lines, words, characters\n",
    "4. convert .txt file in .json\n",
    "5. Take three columns disease, symptoms, advice in a file and fill the details\n",
    "\tAsk the user to enter symptoms. Based on this symptoms Suggest the user to what disease it may be and few advices.\n",
    "6. Take employees info (id,name, age, adress, sal, height, weight)\n",
    "\ta. Take id, provide employee information for that id.\n",
    "\tb. find out average salary.\n",
    "\tc. find out which age, address taking the heighest salary \n",
    "\td. find out every employee BMI value\n",
    "\te. Finally find out the Organization overall BMI"
   ]
  },
  {
   "cell_type": "code",
   "execution_count": null,
   "metadata": {
    "collapsed": true
   },
   "outputs": [],
   "source": [
    "5.l=[1,2,3] just make it a string."
   ]
  },
  {
   "cell_type": "code",
   "execution_count": null,
   "metadata": {
    "collapsed": true
   },
   "outputs": [],
   "source": [
    "Assignment 7: \n",
    "find the start position of the largest block of repeated characters in a given string\n",
    "Ans:\n",
    "import re\n",
    "s=raw_input(\"Enter String: \")\n",
    "max_word=max([max(re.findall(c+'+',s),key=len) for c in set(s)],key=len)\n",
    "print \"max_word: \",max_word, \"length: \",len(max_word),\"index: \",s.find(max_word)"
   ]
  },
  {
   "cell_type": "code",
   "execution_count": null,
   "metadata": {
    "collapsed": true
   },
   "outputs": [],
   "source": [
    "Assignment 8:\n",
    "get union and intersection of lists:\n",
    "l=[1,2,3,4,5,6]\n",
    "l1=[1,7,2,8,9]\n",
    "print set(l) & set(l1)\n",
    "print set(l) | set(l1)"
   ]
  },
  {
   "cell_type": "code",
   "execution_count": null,
   "metadata": {
    "collapsed": true
   },
   "outputs": [],
   "source": [
    "Assignment 9:\n",
    "input: fun(5)\n",
    "output: [1,2,3,4,3,2,1]\n",
    "def fun(v):\n",
    "    l=range(v)\n",
    "    l1=range(v)\n",
    "    l1.reverse()\n",
    "    return l+l1[1:]"
   ]
  },
  {
   "cell_type": "code",
   "execution_count": null,
   "metadata": {
    "collapsed": true
   },
   "outputs": [],
   "source": [
    "Assignment 10:\n",
    " Make two dimentional list to one dimentional:\n",
    "l2=[]\n",
    "l=[1,2,3,[1,2,3],4,[5,7]]\n",
    "for i in l:\n",
    "\tif isinstance(i,list):\n",
    "\t\tl2.extend(i)\n",
    "\telse:\n",
    "\t\tl2.append(i)\n",
    "print l2"
   ]
  },
  {
   "cell_type": "code",
   "execution_count": null,
   "metadata": {
    "collapsed": true
   },
   "outputs": [],
   "source": [
    "Assignment 11:\n",
    "input fun('abc')\n",
    "output: [[],][a],[b],[c],[a,b],[b,c],[c,a],[a,b,c]]\n",
    "def fy(s):\n",
    "    result=[]\n",
    "    result.append([])\n",
    "    for i in range(len(s)+1): \n",
    "        for j in range(i):\n",
    "            result.append(list(s[j:i]))\n",
    "    result.append([s[-1],s[0]])\n",
    "    print result\n",
    "fy('abc')"
   ]
  },
  {
   "cell_type": "code",
   "execution_count": null,
   "metadata": {
    "collapsed": true
   },
   "outputs": [],
   "source": [
    "\n",
    "Assignment 12:\n",
    "Remove duplicates from the list:\n",
    "a=[1,2,3,2,3,4,1,,3,4]\n",
    "s=set(a)\n",
    "s1=s.copy()\n",
    "a=[s.pop() for i in s1][::1]"
   ]
  },
  {
   "cell_type": "code",
   "execution_count": null,
   "metadata": {
    "collapsed": true
   },
   "outputs": [],
   "source": [
    "Assignment 13:\n",
    "scores =  {\"classScore\":[(\"mohan\", 80), (\"satish\", 90), (\"purnesh\", 40), (\"venkat\", 30)]} sort the list in assignding order of marks..\n",
    "import operator\n",
    "scores =  {\"classScore\":[(\"mohan\", 80), (\"satish\", 90), (\"purnesh\", 40), (\"venkat\", 30)]}\n",
    "scores1=    {\"classScore\": sorted(scores['classScore'],key=operator.itemgetter(1))}\n",
    "print  scores1"
   ]
  }
 ],
 "metadata": {
  "kernelspec": {
   "display_name": "Python [Root]",
   "language": "python",
   "name": "Python [Root]"
  },
  "language_info": {
   "codemirror_mode": {
    "name": "ipython",
    "version": 2
   },
   "file_extension": ".py",
   "mimetype": "text/x-python",
   "name": "python",
   "nbconvert_exporter": "python",
   "pygments_lexer": "ipython2",
   "version": "2.7.12"
  }
 },
 "nbformat": 4,
 "nbformat_minor": 0
}
