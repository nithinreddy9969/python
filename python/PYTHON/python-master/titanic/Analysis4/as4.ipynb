{
 "cells": [
  {
   "cell_type": "code",
   "execution_count": 3,
   "metadata": {
    "collapsed": false
   },
   "outputs": [
    {
     "name": "stdout",
     "output_type": "stream",
     "text": [
      "total number of passenngers 891\n"
     ]
    }
   ],
   "source": [
    "import pandas as pd\n",
    "titanic_data=pd.read_csv('data4/train.csv')\n",
    "# total number of passengers\n",
    "total_passengers=len(titanic_data)\n",
    "print \"total number of passenngers\",total_passengers\n",
    "#class_wise_proportion\n",
    "df_t=titanic_data.groupby('Pclass').count()['PassengerId']\n",
    "df_s=titanic_data[titanic_data['Survived']==1].groupby('Pclass').count()['PassengerId']\n",
    "df=pd.DataFrame(df_s/df_t,columns=[\"PassengerId\"],index=[1,2,3])\n",
    "df=df.rename(columns={\"PassengerId\":\"proportion\"})\n",
    "df.to_csv('data4/class_wise_proportion.csv')"
   ]
  },
  {
   "cell_type": "code",
   "execution_count": null,
   "metadata": {
    "collapsed": true
   },
   "outputs": [],
   "source": []
  }
 ],
 "metadata": {
  "kernelspec": {
   "display_name": "Python 2",
   "language": "python",
   "name": "python2"
  },
  "language_info": {
   "codemirror_mode": {
    "name": "ipython",
    "version": 2
   },
   "file_extension": ".py",
   "mimetype": "text/x-python",
   "name": "python",
   "nbconvert_exporter": "python",
   "pygments_lexer": "ipython2",
   "version": "2.7.11"
  }
 },
 "nbformat": 4,
 "nbformat_minor": 0
}
