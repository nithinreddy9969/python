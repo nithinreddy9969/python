{
 "cells": [
  {
   "cell_type": "code",
   "execution_count": 4,
   "metadata": {
    "collapsed": false
   },
   "outputs": [
    {
     "name": "stdout",
     "output_type": "stream",
     "text": [
      "total number of passenngers 891\n",
      "count_survived_passengrers:  342\n"
     ]
    }
   ],
   "source": [
    "# program to find total number/details of survived people\n",
    "import pandas as pd\n",
    "train_data=pd.read_csv('data1/train.csv')\n",
    "# total number of passengers\n",
    "total_passengers=len(train_data)\n",
    "print \"total number of passenngers\",total_passengers\n",
    "# total survived passengers\n",
    "survived_passengrers_df=train_data[train_data['Survived']==1]\n",
    "survived_passengrers_df[['PassengerId','Name']].to_csv('data1/Survived_passengers.csv')\n",
    "survived_passengrers=survived_passengrers_df.count()['Survived']\n",
    "print \"count_survived_passengrers: \",survived_passengrers"
   ]
  },
  {
   "cell_type": "code",
   "execution_count": null,
   "metadata": {
    "collapsed": true
   },
   "outputs": [],
   "source": []
  }
 ],
 "metadata": {
  "kernelspec": {
   "display_name": "Python 2",
   "language": "python",
   "name": "python2"
  },
  "language_info": {
   "codemirror_mode": {
    "name": "ipython",
    "version": 2
   },
   "file_extension": ".py",
   "mimetype": "text/x-python",
   "name": "python",
   "nbconvert_exporter": "python",
   "pygments_lexer": "ipython2",
   "version": "2.7.11"
  }
 },
 "nbformat": 4,
 "nbformat_minor": 0
}
