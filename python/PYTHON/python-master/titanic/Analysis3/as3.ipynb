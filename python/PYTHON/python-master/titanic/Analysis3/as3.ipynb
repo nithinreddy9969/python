{
 "cells": [
  {
   "cell_type": "code",
   "execution_count": 1,
   "metadata": {
    "collapsed": false
   },
   "outputs": [
    {
     "name": "stdout",
     "output_type": "stream",
     "text": [
      "total number of passenngers 891\n"
     ]
    }
   ],
   "source": [
    "# find out male and female survived proportion\n",
    "import pandas as pd\n",
    "df=pd.read_csv('data3/train.csv')\n",
    "# total number of passengers\n",
    "total_passengers=len(df)\n",
    "print \"total number of passenngers\",total_passengers\n",
    "# male female passengers count\n",
    "df_total=df.groupby('Sex').count()['PassengerId']\n",
    "df_total_survived=df[df['Survived']==1].groupby('Sex').count()['PassengerId']\n",
    "\n",
    "df=pd.DataFrame(df_total_survived/df_total,columns=[\"PassengerId\"],index=['female','male'])\n",
    "df\n",
    "df=df.rename(columns={'PassengerId':\"Proportion\"})\n",
    "df.to_csv('data3/male_female_survived_proportion.csv')"
   ]
  },
  {
   "cell_type": "code",
   "execution_count": null,
   "metadata": {
    "collapsed": true
   },
   "outputs": [],
   "source": []
  }
 ],
 "metadata": {
  "kernelspec": {
   "display_name": "Python 2",
   "language": "python",
   "name": "python2"
  },
  "language_info": {
   "codemirror_mode": {
    "name": "ipython",
    "version": 2
   },
   "file_extension": ".py",
   "mimetype": "text/x-python",
   "name": "python",
   "nbconvert_exporter": "python",
   "pygments_lexer": "ipython2",
   "version": "2.7.11"
  }
 },
 "nbformat": 4,
 "nbformat_minor": 0
}
