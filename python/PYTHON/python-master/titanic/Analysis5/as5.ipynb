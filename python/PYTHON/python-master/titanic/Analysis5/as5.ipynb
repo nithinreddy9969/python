{
 "cells": [
  {
   "cell_type": "code",
   "execution_count": 1,
   "metadata": {
    "collapsed": false
   },
   "outputs": [
    {
     "name": "stdout",
     "output_type": "stream",
     "text": [
      "total number of passenngers 891\n"
     ]
    }
   ],
   "source": [
    "# program to find out total passendgers and survived passengers and proportion class wise\n",
    "import pandas as pd\n",
    "data_titanic=pd.read_csv('data5/train.csv')\n",
    "# total number of passengers\n",
    "total_passengers=len(data_titanic)\n",
    "print \"total number of passenngers\",total_passengers\n",
    "df_count_clss=data_titanic.groupby('Pclass').count()['PassengerId']\n",
    "df_count_clss_survived=data_titanic[data_titanic['Survived']==1].groupby('Pclass').count()['PassengerId']\n",
    "df=pd.DataFrame({})\n",
    "df['total']=df_count_clss.values\n",
    "df['survived']=df_count_clss_survived.values\n",
    "df['proportion']=(df_count_clss_survived/df_count_clss).values\n",
    "df.to_csv('data5/proport_class.csv')\n"
   ]
  },
  {
   "cell_type": "code",
   "execution_count": null,
   "metadata": {
    "collapsed": true
   },
   "outputs": [],
   "source": []
  }
 ],
 "metadata": {
  "kernelspec": {
   "display_name": "Python 2",
   "language": "python",
   "name": "python2"
  },
  "language_info": {
   "codemirror_mode": {
    "name": "ipython",
    "version": 2
   },
   "file_extension": ".py",
   "mimetype": "text/x-python",
   "name": "python",
   "nbconvert_exporter": "python",
   "pygments_lexer": "ipython2",
   "version": "2.7.11"
  }
 },
 "nbformat": 4,
 "nbformat_minor": 0
}
