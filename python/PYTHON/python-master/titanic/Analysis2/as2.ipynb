{
 "cells": [
  {
   "cell_type": "code",
   "execution_count": 1,
   "metadata": {
    "collapsed": false
   },
   "outputs": [
    {
     "name": "stdout",
     "output_type": "stream",
     "text": [
      "total number of passenngers 891\n"
     ]
    }
   ],
   "source": [
    "# program to find out proportion of survived people\n",
    "import pandas as pd\n",
    "data=pd.read_csv('data2/train.csv')\n",
    "# total number of passengers\n",
    "total_passengers=len(data)\n",
    "print \"total number of passenngers\",total_passengers\n",
    "# total survived passengers\n",
    "survived_passengrers_df=data[data['Survived']==1]\n",
    "# proportion_survivors\n",
    "survived_passengrers=survived_passengrers_df.count()['Survived']\n",
    "proportion_survivors=survived_passengrers/float(total_passengers)\n",
    "f=open('data2/total_survived_proportion.csv','w')\n",
    "f.write(\"Total proportion:\"+str(proportion_survivors))\n",
    "f.close()"
   ]
  },
  {
   "cell_type": "code",
   "execution_count": null,
   "metadata": {
    "collapsed": true
   },
   "outputs": [],
   "source": []
  }
 ],
 "metadata": {
  "kernelspec": {
   "display_name": "Python 2",
   "language": "python",
   "name": "python2"
  },
  "language_info": {
   "codemirror_mode": {
    "name": "ipython",
    "version": 2
   },
   "file_extension": ".py",
   "mimetype": "text/x-python",
   "name": "python",
   "nbconvert_exporter": "python",
   "pygments_lexer": "ipython2",
   "version": "2.7.11"
  }
 },
 "nbformat": 4,
 "nbformat_minor": 0
}
