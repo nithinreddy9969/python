{
 "cells": [
  {
   "cell_type": "code",
   "execution_count": 52,
   "metadata": {
    "collapsed": false
   },
   "outputs": [
    {
     "ename": "TypeError",
     "evalue": "hist() got multiple values for keyword argument 'bins'",
     "output_type": "error",
     "traceback": [
      "\u001b[1;31m---------------------------------------------------------------------------\u001b[0m",
      "\u001b[1;31mTypeError\u001b[0m                                 Traceback (most recent call last)",
      "\u001b[1;32m<ipython-input-52-f95c03bd1580>\u001b[0m in \u001b[0;36m<module>\u001b[1;34m()\u001b[0m\n\u001b[0;32m     41\u001b[0m \u001b[1;33m\u001b[0m\u001b[0m\n\u001b[0;32m     42\u001b[0m \u001b[1;31m# the histogram of the data\u001b[0m\u001b[1;33m\u001b[0m\u001b[1;33m\u001b[0m\u001b[0m\n\u001b[1;32m---> 43\u001b[1;33m \u001b[0mn\u001b[0m\u001b[1;33m,\u001b[0m \u001b[0mbins\u001b[0m\u001b[1;33m,\u001b[0m \u001b[0mpatches\u001b[0m \u001b[1;33m=\u001b[0m \u001b[0mpl\u001b[0m\u001b[1;33m.\u001b[0m\u001b[0mhist\u001b[0m\u001b[1;33m(\u001b[0m\u001b[0mx\u001b[0m\u001b[1;33m,\u001b[0m \u001b[0mnum_bins\u001b[0m\u001b[1;33m,\u001b[0m \u001b[0mbins\u001b[0m\u001b[1;33m=\u001b[0m\u001b[0mnp\u001b[0m\u001b[1;33m.\u001b[0m\u001b[0mlogspace\u001b[0m\u001b[1;33m(\u001b[0m\u001b[1;36m0.1\u001b[0m\u001b[1;33m,\u001b[0m \u001b[1;36m1.0\u001b[0m\u001b[1;33m,\u001b[0m \u001b[1;36m50\u001b[0m\u001b[1;33m)\u001b[0m\u001b[1;33m,\u001b[0m \u001b[0mnormed\u001b[0m\u001b[1;33m=\u001b[0m\u001b[1;36m1\u001b[0m\u001b[1;33m,\u001b[0m \u001b[0mfacecolor\u001b[0m\u001b[1;33m=\u001b[0m\u001b[1;34m'green'\u001b[0m\u001b[1;33m,\u001b[0m \u001b[0malpha\u001b[0m\u001b[1;33m=\u001b[0m\u001b[1;36m0.5\u001b[0m\u001b[1;33m)\u001b[0m\u001b[1;33m\u001b[0m\u001b[0m\n\u001b[0m\u001b[0;32m     44\u001b[0m \u001b[0my\u001b[0m \u001b[1;33m=\u001b[0m \u001b[0mmlab\u001b[0m\u001b[1;33m.\u001b[0m\u001b[0mnormpdf\u001b[0m\u001b[1;33m(\u001b[0m\u001b[0mbins\u001b[0m\u001b[1;33m,\u001b[0m \u001b[0mmu\u001b[0m\u001b[1;33m,\u001b[0m \u001b[0msigma\u001b[0m\u001b[1;33m)\u001b[0m\u001b[1;33m\u001b[0m\u001b[0m\n\u001b[0;32m     45\u001b[0m \u001b[0mplt\u001b[0m\u001b[1;33m.\u001b[0m\u001b[0mplot\u001b[0m\u001b[1;33m(\u001b[0m\u001b[0mbins\u001b[0m\u001b[1;33m,\u001b[0m \u001b[0my\u001b[0m\u001b[1;33m,\u001b[0m \u001b[1;34m'b--'\u001b[0m\u001b[1;33m)\u001b[0m\u001b[1;33m\u001b[0m\u001b[0m\n",
      "\u001b[1;31mTypeError\u001b[0m: hist() got multiple values for keyword argument 'bins'"
     ]
    }
   ],
   "source": [
    "import pandas as pd\n",
    "import numpy as np\n",
    "import matplotlib.pyplot as plt\n",
    "import matplotlib.mlab as mlab\n",
    "\n",
    "def piechart_plot(df):\n",
    "    hhl_lan = ['English only', 'Spanish', 'Other Indo-European languages', 'Asian and Pacific Island languages','Other language']\n",
    "    hhl_lan_count = df['HHL'].value_counts().to_dict()\n",
    "    for i in hhl_lan_count:\n",
    "        if i == 1.0:\n",
    "            hhl_lan_count['English only'] = hhl_lan_count.pop(i)\n",
    "        elif i == 2.0:\n",
    "            hhl_lan_count['Spanish'] = hhl_lan_count.pop(i)\n",
    "        elif i == 3.0:\n",
    "            hhl_lan_count['Other Indo-European languages'] = hhl_lan_count.pop(i)\n",
    "        elif i == 4.0:\n",
    "            hhl_lan_count['Asian and Pacific Island languages'] = hhl_lan_count.pop(i)\n",
    "        elif i == 5.0:\n",
    "            hhl_lan_count['Other language'] = hhl_lan_count.pop(i)\n",
    "\n",
    "        # Pie Chart\n",
    "    labels = hhl_lan_count.keys()\n",
    "    sizes = hhl_lan_count.values()\n",
    "    colors = ['#cc0099', 'blue', '#00bfff', 'green','red']\n",
    "    patches, texts = plt.pie(sizes, colors=colors, startangle=240)\n",
    "    plt.legend(patches, labels, loc=2).draggable()\n",
    "    plt.axis('equal')\n",
    "    plt.title('Household Languages')\n",
    "    plt.tight_layout()\n",
    "    #plt.show()\n",
    "plt.subplot(2,2,1)\n",
    "df = pd.read_csv('ss13hil.csv')\n",
    "piechart_plot(df)\n",
    "plt.subplot(2,2,2)\n",
    "\n",
    "mu = 100  # mean of distribution\n",
    "sigma = 15  # standard deviation of distribution\n",
    "x = df['HINCP'].dropna().values.tolist()\n",
    "num_bins = 60\n",
    "\n",
    "# the histogram of the data\n",
    "n, bins, patches = plt.hist(x, num_bins, normed=1, facecolor='green', alpha=0.5)\n",
    "y = mlab.normpdf(bins, mu, sigma)\n",
    "plt.plot(bins, y, 'b--')\n",
    "plt.xlabel('Household Income($) - Log scaled')\n",
    "plt.ylabel('Density')\n",
    "plt.title('Distribution of Household Income')\n",
    "\n",
    "# Tweak spacing to prevent clipping of ylabel\n",
    "plt.subplots_adjust(left=0.15)\n",
    "plt.grid(True)\n",
    "\n",
    "plt.subplot(2,2,3)\n",
    "#Bar Chart \n",
    "bar_gropu = df.groupby('VEH').sum()['WGTP']\n",
    "x=bar_gropu.index.tolist()\n",
    "y=bar_gropu.values.tolist()\n",
    "plt.bar(x,y,label='Bar1',color='r')\n",
    "plt.xlabel('# of Vehicles')\n",
    "plt.ylabel('Thousands of house holds')\n",
    "plt.title('Vehicla Available in Households')\n",
    "\n",
    "plt.subplot(2,2,4)\n",
    "# Scatter Plot\n",
    "xyc = range(100)\n",
    "cm = plt.cm.get_cmap('Accent')\n",
    "sc = plt.scatter(xyc, xyc, c=xyc, s=35, vmin=0, vmax=20, cmap=cm)\n",
    "plt.colorbar(sc)\n",
    "plt.xlim(0, 20)\n",
    "plt.ylim(0, 20)\n",
    "\n",
    "plt.show()\n",
    "\n",
    "\n",
    "\n"
   ]
  },
  {
   "cell_type": "code",
   "execution_count": null,
   "metadata": {
    "collapsed": false
   },
   "outputs": [],
   "source": []
  }
 ],
 "metadata": {
  "kernelspec": {
   "display_name": "Python 2",
   "language": "python",
   "name": "python2"
  },
  "language_info": {
   "codemirror_mode": {
    "name": "ipython",
    "version": 2
   },
   "file_extension": ".py",
   "mimetype": "text/x-python",
   "name": "python",
   "nbconvert_exporter": "python",
   "pygments_lexer": "ipython2",
   "version": "2.7.11"
  }
 },
 "nbformat": 4,
 "nbformat_minor": 0
}
