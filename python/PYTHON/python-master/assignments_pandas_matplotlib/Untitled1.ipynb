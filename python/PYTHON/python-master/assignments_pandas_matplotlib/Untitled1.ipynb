{
 "cells": [
  {
   "cell_type": "code",
   "execution_count": 2,
   "metadata": {
    "collapsed": false
   },
   "outputs": [
    {
     "name": "stdout",
     "output_type": "stream",
     "text": [
      "Enter the number of car instances:\t6\n",
      "Enter the make,model,type,rating:\tford,mustang,coupe,A\n",
      "Enter the make,model,type,rating:\tchevy,camaro,coupe,B\n",
      "Enter the make,model,type,rating:\tford,fiesta,sedan,C\n",
      "Enter the make,model,type,rating:\tford,focus,sedan,A\n",
      "Enter the make,model,type,rating:\tford,taurus,sedan,B\n",
      "Enter the make,model,type,rating:\ttoyota,camry,sedan,B\n"
     ]
    },
    {
     "data": {
      "text/plain": [
       "A        NaN\n",
       "B        NaN\n",
       "C        NaN\n",
       "chevy    NaN\n",
       "ford     NaN\n",
       "toyota   NaN\n",
       "dtype: float64"
      ]
     },
     "execution_count": 2,
     "metadata": {},
     "output_type": "execute_result"
    }
   ],
   "source": [
    "import pandas as pd\n",
    "list_of_cars = []\n",
    "no_of_instances = input('Enter the number of car instances:\\t')\n",
    "# Inputs \"Make1,model1,typ1,A\"\n",
    "for i in range(no_of_instances):\n",
    "    list1=['make','model','type','rating']\n",
    "    ip = raw_input(\"Enter the make,model,type,rating:\\t\")\n",
    "    lz = ip.split(',')\n",
    "    dict_list = zip(list1, lz)\n",
    "    d= dict(dict_list)        \n",
    "    list_of_cars.append(d)\n",
    "df = pd.DataFrame(list_of_cars)\n",
    "rating_probs = df.groupby('rating').size().div(len(df))\n",
    "type_probs= df.groupby(['make','model','type', 'rating']).size().div(len(df)).div(rating_probs, axis=0, level=1)\n",
    "type_probs"
   ]
  },
  {
   "cell_type": "code",
   "execution_count": null,
   "metadata": {
    "collapsed": true
   },
   "outputs": [],
   "source": []
  }
 ],
 "metadata": {
  "kernelspec": {
   "display_name": "Python 2",
   "language": "python",
   "name": "python2"
  },
  "language_info": {
   "codemirror_mode": {
    "name": "ipython",
    "version": 2
   },
   "file_extension": ".py",
   "mimetype": "text/x-python",
   "name": "python",
   "nbconvert_exporter": "python",
   "pygments_lexer": "ipython2",
   "version": "2.7.11"
  }
 },
 "nbformat": 4,
 "nbformat_minor": 0
}
