{
 "cells": [
  {
   "cell_type": "code",
   "execution_count": 33,
   "metadata": {
    "collapsed": false
   },
   "outputs": [],
   "source": [
    "import os\n",
    "import pandas as pd\n",
    "def get_dataframe(file_name):\n",
    "    columns=['date','maximum_temp','minimu_temp','precipitation']\n",
    "    file_path = os.path.join(\"wx_data\",file_name)\n",
    "    data = open(file_path).readlines()\n",
    "    file_data = []\n",
    "    for row in data:\n",
    "        file_data.append(dict(zip(columns,[i.strip('\\n') for i in row.split('\\t')])))\n",
    "    dataframe = pd.DataFrame(file_data)\n",
    "    return dataframe\n",
    "result = []\n",
    "for wf in os.listdir('wx_data'):\n",
    "    df = get_dataframe(wf)\n",
    "    count = df[(df['precipitation']=='-9999') & (df['maximum_temp']!='-9999') & (df['minimu_temp']!=\"-9999\")].count()['date']\n",
    "    result.append(\"{0}\\t{1}\".format(wf,count))\n",
    "    result.sort()\n",
    "data_required = \"\\n\".join(result)\n",
    "output_path = os.path.join('answers','MissingPrcpData.out')\n",
    "f=open(output_path,'w')\n",
    "f.write(data_required)\n",
    "f.close()\n"
   ]
  },
  {
   "cell_type": "code",
   "execution_count": null,
   "metadata": {
    "collapsed": false
   },
   "outputs": [],
   "source": [
    "import datetime\n",
    "import os\n",
    "import pandas as pd\n",
    "def get_dataframe(file_name):\n",
    "    columns=['date','maximum_temp','minimu_temp','precipitation']\n",
    "    file_path = os.path.join(\"wx_data\",file_name)\n",
    "    data = open(file_path).readlines()\n",
    "    file_data = []\n",
    "    for row in data:\n",
    "        file_data.append(dict(zip(columns,[i.strip('\\n') for i in row.split('\\t')])))\n",
    "    dataframe = pd.DataFrame(file_data)\n",
    "    return dataframe[(dataframe['precipitation']!='-9999') & \n",
    "                     (dataframe['maximum_temp']!='-9999') & \n",
    "                     (dataframe['minimu_temp']!=\"-9999\")]\n",
    "    \n",
    "result = []\n",
    "for wf in os.listdir('wx_data'):\n",
    "    result = []\n",
    "    df = get_dataframe(wf)\n",
    "    df['date'] = map(lambda x:datetime.datetime.fromtimestamp(float(x)),df['date'])\n",
    "    df['year'] = map(lambda x:df['date'].ix[x].year,df.index)\n",
    "    df['maximum_temp']=map(float,df['maximum_temp'].values)\n",
    "    df['minimu_temp']=map(float,df['minimu_temp'].values)\n",
    "    df['precipitation']=map(float,df['precipitation'].values)\n",
    "    mean = df.groupby('year').mean()\n",
    "    total = df.groupby('year').sum()\n",
    "    maximutemp_mean  = mean['maximum_temp']\n",
    "    minimutemp_mean = mean['minimu_temp']\n",
    "    total_precipitation = total['precipitation']\n",
    "    result.append(\"{0}\\t{1}\\t{2:.2f}\\t{3:.2f}\\t{4:.2f}\".format(wf,\n",
    "                                                              total_precipitation.index[0],\n",
    "                                                              maximutemp_mean.values[0],\n",
    "                                                              minimutemp_mean.values[0],\n",
    "                                                             total_precipitation.values[0]))\n",
    "                                                                                                                                            \n",
    "result = map(lambda x:x+\"\\n\",result)\n",
    "f=open(os.path.join('answers','YearlyAverages.out'),'w')\n",
    "f.writelines(result)\n",
    "f.close()"
   ]
  },
  {
   "cell_type": "code",
   "execution_count": null,
   "metadata": {
    "collapsed": true
   },
   "outputs": [],
   "source": []
  }
 ],
 "metadata": {
  "kernelspec": {
   "display_name": "Python [default]",
   "language": "python",
   "name": "python2"
  },
  "language_info": {
   "codemirror_mode": {
    "name": "ipython",
    "version": 2
   },
   "file_extension": ".py",
   "mimetype": "text/x-python",
   "name": "python",
   "nbconvert_exporter": "python",
   "pygments_lexer": "ipython2",
   "version": "2.7.12"
  }
 },
 "nbformat": 4,
 "nbformat_minor": 1
}
