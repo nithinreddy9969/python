{
 "cells": [
  {
   "cell_type": "code",
   "execution_count": 1,
   "metadata": {
    "collapsed": true
   },
   "outputs": [],
   "source": [
    "l=[(u'headache,cold,cough',), (u'bodypains,headache,cold,fever    ',), (u'cough,headache,cardiacarrest    ',)]"
   ]
  },
  {
   "cell_type": "code",
   "execution_count": 6,
   "metadata": {
    "collapsed": false
   },
   "outputs": [
    {
     "name": "stdout",
     "output_type": "stream",
     "text": [
      ",headache,cold,cough,bodypains,headache,cold,fever    ,cough,headache,cardiacarrest    \n",
      "[u'', u'headache', u'cold', u'cough', u'bodypains', u'headache', u'cold', u'fever    ', u'cough', u'headache', u'cardiacarrest    ']\n",
      "[u'', u'fever', u'cardiacarrest', u'cold', u'cough', u'bodypains', u'headache']\n"
     ]
    }
   ],
   "source": [
    "s=\"\"\n",
    "for i in l:\n",
    "    s=s+\",\"+i[0]\n",
    "print s\n",
    "l1=s.split(',')\n",
    "print l1\n",
    "l2=set(l1)\n",
    "l3 = [i.strip() for i in l2]\n",
    "print l3"
   ]
  },
  {
   "cell_type": "code",
   "execution_count": null,
   "metadata": {
    "collapsed": true
   },
   "outputs": [],
   "source": []
  }
 ],
 "metadata": {
  "kernelspec": {
   "display_name": "Python 2",
   "language": "python",
   "name": "python2"
  },
  "language_info": {
   "codemirror_mode": {
    "name": "ipython",
    "version": 2
   },
   "file_extension": ".py",
   "mimetype": "text/x-python",
   "name": "python",
   "nbconvert_exporter": "python",
   "pygments_lexer": "ipython2",
   "version": "2.7.11"
  }
 },
 "nbformat": 4,
 "nbformat_minor": 0
}
