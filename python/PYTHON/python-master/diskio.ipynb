{
 "cells": [
  {
   "cell_type": "code",
   "execution_count": 2,
   "metadata": {
    "collapsed": true
   },
   "outputs": [],
   "source": [
    "import subprocess as sp"
   ]
  },
  {
   "cell_type": "code",
   "execution_count": 3,
   "metadata": {
    "collapsed": false
   },
   "outputs": [],
   "source": [
    "ls = sp.check_output(\"ls -l\",shell=True)"
   ]
  },
  {
   "cell_type": "code",
   "execution_count": 4,
   "metadata": {
    "collapsed": true
   },
   "outputs": [],
   "source": [
    "ls = sp.check_output(\"vmstat\")"
   ]
  },
  {
   "cell_type": "code",
   "execution_count": 5,
   "metadata": {
    "collapsed": false
   },
   "outputs": [
    {
     "data": {
      "text/plain": [
       "['procs -----------memory---------- ---swap-- -----io---- -system-- ------cpu-----',\n",
       " ' r  b   swpd   free   buff  cache   si   so    bi    bo   in   cs us sy id wa st',\n",
       " ' 0  0      0 1595284  91352 1008588    0    0   261    58  467 1504 11  3 82  4  0']"
      ]
     },
     "execution_count": 5,
     "metadata": {},
     "output_type": "execute_result"
    }
   ],
   "source": [
    "ls.splitlines()"
   ]
  },
  {
   "cell_type": "code",
   "execution_count": 17,
   "metadata": {
    "collapsed": false
   },
   "outputs": [],
   "source": [
    "ls = sp.check_output(\"echo password| sudo -S fdisk -l\",shell=True)"
   ]
  },
  {
   "cell_type": "code",
   "execution_count": 20,
   "metadata": {
    "collapsed": false
   },
   "outputs": [],
   "source": [
    "diskinfo_list = ls.splitlines()"
   ]
  },
  {
   "cell_type": "code",
   "execution_count": 23,
   "metadata": {
    "collapsed": false
   },
   "outputs": [],
   "source": [
    "ls = sp.check_output(\"echo pasword| sudo -S ls -l /proc\",shell=True)"
   ]
  },
  {
   "cell_type": "code",
   "execution_count": 25,
   "metadata": {
    "collapsed": false
   },
   "outputs": [
    {
     "data": {
      "text/plain": [
       "['total 0',\n",
       " 'dr-xr-xr-x  9 root             root                           0 Sep  1 16:46 1',\n",
       " 'dr-xr-xr-x  9 root             root                           0 Sep  1 16:46 10',\n",
       " 'dr-xr-xr-x  9 postgres         postgres                       0 Sep  1 16:46 1006',\n",
       " 'dr-xr-xr-x  9 postgres         postgres                       0 Sep  1 16:46 1007',\n",
       " 'dr-xr-xr-x  9 postgres         postgres                       0 Sep  1 16:46 1008',\n",
       " 'dr-xr-xr-x  9 postgres         postgres                       0 Sep  1 16:46 1009',\n",
       " 'dr-xr-xr-x  9 postgres         postgres                       0 Sep  1 16:46 1010',\n",
       " 'dr-xr-xr-x  9 root             root                           0 Sep  1 16:46 1015',\n",
       " 'dr-xr-xr-x  9 nobody           dip                            0 Sep  1 16:46 1018',\n",
       " 'dr-xr-xr-x  9 root             root                           0 Sep  1 16:46 106',\n",
       " 'dr-xr-xr-x  9 root             root                           0 Sep  1 16:46 107',\n",
       " 'dr-xr-xr-x  9 root             root                           0 Sep  1 16:46 11',\n",
       " 'dr-xr-xr-x  9 kernoops         adm                            0 Sep  1 16:46 1155',\n",
       " 'dr-xr-xr-x  9 root             root                           0 Sep  1 16:46 12',\n",
       " 'dr-xr-xr-x  9 root             root                           0 Sep  1 16:46 1268',\n",
       " 'dr-xr-xr-x  9 root             root                           0 Sep  1 16:46 1286',\n",
       " 'dr-xr-xr-x  9 root             root                           0 Sep  1 16:46 13',\n",
       " 'dr-xr-xr-x  9 root             root                           0 Sep  1 16:46 14',\n",
       " 'dr-xr-xr-x  9 root             root                           0 Sep  1 16:46 1447',\n",
       " 'dr-xr-xr-x  9 postfix          postfix                        0 Sep  1 16:48 1452',\n",
       " 'dr-xr-xr-x  9 root             root                           0 Sep  1 16:46 15',\n",
       " 'dr-xr-xr-x  9 root             root                           0 Sep  1 16:48 1544',\n",
       " 'dr-xr-xr-x  9 rtkit            rtkit                          0 Sep  1 16:48 1636',\n",
       " 'dr-xr-xr-x  9 root             root                           0 Sep  1 16:48 1655',\n",
       " 'dr-xr-xr-x  9 colord           colord                         0 Sep  1 16:48 1675',\n",
       " 'dr-xr-xr-x  9 root             root                           0 Sep  1 16:46 168',\n",
       " 'dr-xr-xr-x  9 root             root                           0 Sep  1 16:46 169',\n",
       " 'dr-xr-xr-x  9 nexii            nexii                          0 Sep  1 16:48 1692',\n",
       " 'dr-xr-xr-x  9 nexii            nexii                          0 Sep  1 16:48 1693',\n",
       " 'dr-xr-xr-x  9 nexii            nexii                          0 Sep  1 16:48 1697',\n",
       " 'dr-xr-xr-x  9 nexii            nexii                          0 Sep  1 16:48 1699',\n",
       " 'dr-xr-xr-x  9 root             root                           0 Sep  1 16:46 17',\n",
       " 'dr-xr-xr-x  9 root             root                           0 Sep  1 16:46 170',\n",
       " 'dr-xr-xr-x  9 root             root                           0 Sep  1 16:46 174',\n",
       " 'dr-xr-xr-x  9 root             root                           0 Sep  1 16:46 18',\n",
       " 'dr-xr-xr-x  9 nexii            nexii                          0 Sep  1 16:48 1824',\n",
       " 'dr-xr-xr-x  9 nexii            nexii                          0 Sep  1 16:48 1836',\n",
       " 'dr-xr-xr-x  9 nexii            nexii                          0 Sep  1 16:48 1858',\n",
       " 'dr-xr-xr-x  9 nexii            nexii                          0 Sep  1 16:48 1863',\n",
       " 'dr-xr-xr-x  9 nexii            nexii                          0 Sep  1 16:48 1864',\n",
       " 'dr-xr-xr-x  9 nexii            nexii                          0 Sep  1 16:48 1866',\n",
       " 'dr-xr-xr-x  9 nexii            nexii                          0 Sep  1 16:48 1875',\n",
       " 'dr-xr-xr-x  9 nexii            nexii                          0 Sep  1 16:48 1888',\n",
       " 'dr-xr-xr-x  9 nexii            nexii                          0 Sep  1 16:48 1890',\n",
       " 'dr-xr-xr-x  9 nexii            nexii                          0 Sep  1 16:48 1895',\n",
       " 'dr-xr-xr-x  9 nexii            nexii                          0 Sep  1 16:48 1899',\n",
       " 'dr-xr-xr-x  9 root             root                           0 Sep  1 16:46 19',\n",
       " 'dr-xr-xr-x  9 nexii            nexii                          0 Sep  1 16:48 1903',\n",
       " 'dr-xr-xr-x  9 nexii            nexii                          0 Sep  1 16:48 1907',\n",
       " 'dr-xr-xr-x  9 nexii            nexii                          0 Sep  1 16:48 1910',\n",
       " 'dr-xr-xr-x  9 nexii            nexii                          0 Sep  1 16:48 1912',\n",
       " 'dr-xr-xr-x  9 nexii            nexii                          0 Sep  1 16:48 1915',\n",
       " 'dr-xr-xr-x  9 nexii            nexii                          0 Sep  1 16:48 1917',\n",
       " 'dr-xr-xr-x  9 nexii            nexii                          0 Sep  1 16:48 1919',\n",
       " 'dr-xr-xr-x  9 nexii            nexii                          0 Sep  1 16:48 1922',\n",
       " 'dr-xr-xr-x  9 nexii            nexii                          0 Sep  1 16:48 1925',\n",
       " 'dr-xr-xr-x  9 root             root                           0 Sep  1 16:46 198',\n",
       " 'dr-xr-xr-x  9 root             root                           0 Sep  1 16:46 199',\n",
       " 'dr-xr-xr-x  9 root             root                           0 Sep  1 16:46 2',\n",
       " 'dr-xr-xr-x  9 root             root                           0 Sep  1 16:46 20',\n",
       " 'dr-xr-xr-x  9 root             root                           0 Sep  1 16:46 200',\n",
       " 'dr-xr-xr-x  9 root             root                           0 Sep  1 16:46 201',\n",
       " 'dr-xr-xr-x  9 root             root                           0 Sep  1 16:46 202',\n",
       " 'dr-xr-xr-x  9 root             root                           0 Sep  1 16:46 203',\n",
       " 'dr-xr-xr-x  9 nexii            nexii                          0 Sep  1 16:48 2033',\n",
       " 'dr-xr-xr-x  9 nexii            nexii                          0 Sep  1 16:48 2037',\n",
       " 'dr-xr-xr-x  9 nexii            nexii                          0 Sep  1 16:48 2041',\n",
       " 'dr-xr-xr-x  9 nexii            nexii                          0 Sep  1 16:48 2050',\n",
       " 'dr-xr-xr-x  9 nexii            nexii                          0 Sep  1 16:48 2056',\n",
       " 'dr-xr-xr-x  9 nexii            nexii                          0 Sep  1 16:48 2064',\n",
       " 'dr-xr-xr-x  9 nexii            nexii                          0 Sep  1 16:48 2065',\n",
       " 'dr-xr-xr-x  9 nexii            nexii                          0 Sep  1 16:48 2067',\n",
       " 'dr-xr-xr-x  9 nexii            nexii                          0 Sep  1 16:48 2068',\n",
       " 'dr-xr-xr-x  9 nexii            nexii                          0 Sep  1 16:48 2071',\n",
       " 'dr-xr-xr-x  9 nexii            nexii                          0 Sep  1 16:48 2072',\n",
       " 'dr-xr-xr-x  9 nexii            nexii                          0 Sep  1 16:48 2073',\n",
       " 'dr-xr-xr-x  9 nexii            nexii                          0 Sep  1 16:48 2074',\n",
       " 'dr-xr-xr-x  9 root             root                           0 Sep  1 16:46 21',\n",
       " 'dr-xr-xr-x  9 nexii            nexii                          0 Sep  1 16:48 2105',\n",
       " 'dr-xr-xr-x  9 nexii            nexii                          0 Sep  1 16:48 2123',\n",
       " 'dr-xr-xr-x  9 nexii            nexii                          0 Sep  1 16:48 2141',\n",
       " 'dr-xr-xr-x  9 nexii            nexii                          0 Sep  1 16:48 2143',\n",
       " 'dr-xr-xr-x  9 nexii            nexii                          0 Sep  1 16:48 2144',\n",
       " 'dr-xr-xr-x  9 nexii            nexii                          0 Sep  1 16:48 2151',\n",
       " 'dr-xr-xr-x  9 nexii            nexii                          0 Sep  1 16:48 2155',\n",
       " 'dr-xr-xr-x  9 nexii            nexii                          0 Sep  1 16:48 2167',\n",
       " 'dr-xr-xr-x  9 root             root                           0 Sep  1 16:48 2169',\n",
       " 'dr-xr-xr-x  9 nexii            nexii                          0 Sep  1 16:48 2179',\n",
       " 'dr-xr-xr-x  9 nexii            nexii                          0 Sep  1 16:48 2184',\n",
       " 'dr-xr-xr-x  9 nexii            nexii                          0 Sep  1 16:48 2189',\n",
       " 'dr-xr-xr-x  9 root             root                           0 Sep  1 16:46 22',\n",
       " 'dr-xr-xr-x  9 nexii            nexii                          0 Sep  1 16:48 2203',\n",
       " 'dr-xr-xr-x  9 nexii            nexii                          0 Sep  1 16:48 2208',\n",
       " 'dr-xr-xr-x  9 nexii            nexii                          0 Sep  1 16:48 2239',\n",
       " 'dr-xr-xr-x  9 nexii            nexii                          0 Sep  1 16:48 2286',\n",
       " 'dr-xr-xr-x  9 nexii            nexii                          0 Sep  1 16:48 2293',\n",
       " 'dr-xr-xr-x  9 nexii            nexii                          0 Sep  1 16:48 2311',\n",
       " 'dr-xr-xr-x  9 nexii            nexii                          0 Sep  1 16:48 2318',\n",
       " 'dr-xr-xr-x  9 nexii            nexii                          0 Sep  1 16:48 2320',\n",
       " 'dr-xr-xr-x  9 nexii            nexii                          0 Sep  1 16:48 2334',\n",
       " 'dr-xr-xr-x  9 root             root                           0 Sep  1 16:46 24',\n",
       " 'dr-xr-xr-x  9 nexii            nexii                          0 Sep  1 16:49 2402',\n",
       " 'dr-xr-xr-x  9 nexii            nexii                          0 Sep  1 16:49 2425',\n",
       " 'dr-xr-xr-x  9 nexii            nexii                          0 Sep  1 16:58 2432',\n",
       " 'dr-xr-xr-x  9 nexii            nexii                          0 Sep  1 16:58 2433',\n",
       " 'dr-xr-xr-x  9 nexii            nexii                          0 Sep  1 16:49 2438',\n",
       " 'dr-xr-xr-x  9 nexii            nexii                          0 Sep  1 16:49 2439',\n",
       " 'dr-xr-xr-x  9 nexii            nexii                          0 Sep  1 16:58 2443',\n",
       " 'dr-xr-xr-x  9 root             root                           0 Sep  1 16:46 245',\n",
       " 'dr-xr-xr-x  9 root             root                           0 Sep  1 16:46 25',\n",
       " 'dr-xr-xr-x  9 nexii            nexii                          0 Sep  1 16:49 2518',\n",
       " 'dr-xr-xr-x  9 nexii            nexii                          0 Sep  1 16:49 2521',\n",
       " 'dr-xr-xr-x  9 root             root                           0 Sep  1 16:46 26',\n",
       " 'dr-xr-xr-x  9 root             root                           0 Sep  1 16:46 264',\n",
       " 'dr-xr-xr-x  9 root             root                           0 Sep  1 16:46 27',\n",
       " 'dr-xr-xr-x  9 nexii            nexii                          0 Sep  1 16:50 2708',\n",
       " 'dr-xr-xr-x  9 root             root                           0 Sep  1 16:46 28',\n",
       " 'dr-xr-xr-x  9 nexii            nexii                          0 Sep  1 16:50 2812',\n",
       " 'dr-xr-xr-x  9 root             root                           0 Sep  1 16:46 289',\n",
       " 'dr-xr-xr-x  9 root             root                           0 Sep  1 16:46 29',\n",
       " 'dr-xr-xr-x  9 root             root                           0 Sep  1 16:46 3',\n",
       " 'dr-xr-xr-x  9 root             root                           0 Sep  1 16:58 3039',\n",
       " 'dr-xr-xr-x  9 nexii            nexii                          0 Sep  1 16:58 3059',\n",
       " 'dr-xr-xr-x  9 root             root                           0 Sep  1 16:46 31',\n",
       " 'dr-xr-xr-x  9 root             root                           0 Sep  1 16:46 32',\n",
       " 'dr-xr-xr-x  9 root             root                           0 Sep  1 16:46 33',\n",
       " 'dr-xr-xr-x  9 root             root                           0 Sep  1 16:46 34',\n",
       " 'dr-xr-xr-x  9 root             root                           0 Sep  1 16:46 342',\n",
       " 'dr-xr-xr-x  9 root             root                           0 Sep  1 16:46 343',\n",
       " 'dr-xr-xr-x  9 root             root                           0 Sep  1 16:46 35',\n",
       " 'dr-xr-xr-x  9 root             root                           0 Sep  1 16:46 36',\n",
       " 'dr-xr-xr-x  9 root             root                           0 Sep  1 16:46 37',\n",
       " 'dr-xr-xr-x  9 root             root                           0 Sep  1 18:28 3768',\n",
       " 'dr-xr-xr-x  9 root             root                           0 Sep  1 16:46 38',\n",
       " 'dr-xr-xr-x  9 nexii            nexii                          0 Sep  1 17:15 3819',\n",
       " 'dr-xr-xr-x  9 nexii            nexii                          0 Sep  1 17:17 3870',\n",
       " 'dr-xr-xr-x  9 root             root                           0 Sep  1 16:46 39',\n",
       " 'dr-xr-xr-x  9 root             root                           0 Sep  1 16:46 398',\n",
       " 'dr-xr-xr-x  9 root             root                           0 Sep  1 16:46 40',\n",
       " 'dr-xr-xr-x  9 nexii            nexii                          0 Sep  1 17:21 4030',\n",
       " 'dr-xr-xr-x  9 nexii            utmp                           0 Sep  1 17:21 4044',\n",
       " 'dr-xr-xr-x  9 nexii            nexii                          0 Sep  1 17:21 4045',\n",
       " 'dr-xr-xr-x  9 root             root                           0 Sep  1 16:46 41',\n",
       " 'dr-xr-xr-x  9 root             root                           0 Sep  1 18:28 4160',\n",
       " 'dr-xr-xr-x  9 root             root                           0 Sep  1 18:28 4173',\n",
       " 'dr-xr-xr-x  9 root             root                           0 Sep  1 18:28 4178',\n",
       " 'dr-xr-xr-x  9 root             root                           0 Sep  1 18:28 4181',\n",
       " 'dr-xr-xr-x  9 postfix          postfix                        0 Sep  1 18:28 4182',\n",
       " 'dr-xr-xr-x  9 root             root                           0 Sep  1 18:28 4188',\n",
       " 'dr-xr-xr-x  9 root             root                           0 Sep  1 16:46 42',\n",
       " 'dr-xr-xr-x  9 root             root                           0 Sep  1 16:46 429',\n",
       " 'dr-xr-xr-x  9 root             root                           0 Sep  1 16:46 43',\n",
       " 'dr-xr-xr-x  9 root             root                           0 Sep  1 16:46 44',\n",
       " 'dr-xr-xr-x  9 root             root                           0 Sep  1 16:46 45',\n",
       " 'dr-xr-xr-x  9 root             root                           0 Sep  1 16:46 456',\n",
       " 'dr-xr-xr-x  9 nexii            nexii                          0 Sep  1 18:28 4567',\n",
       " 'dr-xr-xr-x  9 root             root                           0 Sep  1 16:46 46',\n",
       " 'dr-xr-xr-x  9 nexii            nexii                          0 Sep  1 18:28 4611',\n",
       " 'dr-xr-xr-x  9 root             root                           0 Sep  1 16:46 465',\n",
       " 'dr-xr-xr-x  9 nexii            nexii                          0 Sep  1 18:28 4699',\n",
       " 'dr-xr-xr-x  9 root             root                           0 Sep  1 16:46 47',\n",
       " 'dr-xr-xr-x  9 root             root                           0 Sep  1 16:46 48',\n",
       " 'dr-xr-xr-x  9 nexii            nexii                          0 Sep  1 18:29 4827',\n",
       " 'dr-xr-xr-x  9 root             root                           0 Sep  1 16:46 487',\n",
       " 'dr-xr-xr-x  9 nexii            nexii                          0 Sep  1 18:37 4887',\n",
       " 'dr-xr-xr-x  9 nexii            nexii                          0 Sep  1 18:33 4925',\n",
       " 'dr-xr-xr-x  9 root             root                           0 Sep  1 18:37 4952',\n",
       " 'dr-xr-xr-x  9 root             root                           0 Sep  1 18:37 4971',\n",
       " 'dr-xr-xr-x  9 root             root                           0 Sep  1 16:46 5',\n",
       " 'dr-xr-xr-x  9 root             root                           0 Sep  1 16:46 50',\n",
       " 'dr-xr-xr-x  9 root             root                           0 Sep  1 18:37 5091',\n",
       " 'dr-xr-xr-x  9 root             root                           0 Sep  1 18:37 5094',\n",
       " 'dr-xr-xr-x  9 root             root                           0 Sep  1 16:46 52',\n",
       " 'dr-xr-xr-x  9 root             root                           0 Sep  1 18:42 5218',\n",
       " 'dr-xr-xr-x  9 nexii            nexii                          0 Sep  1 18:42 5259',\n",
       " 'dr-xr-xr-x  9 root             root                           0 Sep  1 16:46 53',\n",
       " 'dr-xr-xr-x  9 root             root                           0 Sep  1 18:42 5361',\n",
       " 'dr-xr-xr-x  9 root             root                           0 Sep  1 16:46 54',\n",
       " 'dr-xr-xr-x  9 root             root                           0 Sep  1 16:46 55',\n",
       " 'dr-xr-xr-x  9 systemd-timesync systemd-timesync               0 Sep  1 16:46 554',\n",
       " 'dr-xr-xr-x  9 root             root                           0 Sep  1 18:47 5674',\n",
       " 'dr-xr-xr-x  9 root             root                           0 Sep  1 18:47 5719',\n",
       " 'dr-xr-xr-x  9 nexii            nexii                          0 Sep  1 18:46 5730',\n",
       " 'dr-xr-xr-x  9 nexii            nexii                          0 Sep  1 18:46 5745',\n",
       " 'dr-xr-xr-x  9 nexii            nexii                          0 Sep  1 18:46 5770',\n",
       " 'dr-xr-xr-x  9 nexii            nexii                          0 Sep  1 18:46 5811',\n",
       " 'dr-xr-xr-x  9 root             root                           0 Sep  1 18:49 5873',\n",
       " 'dr-xr-xr-x  9 nexii            nexii                          0 Sep  1 18:49 5882',\n",
       " 'dr-xr-xr-x  9 root             nexii                          0 Sep  1 18:49 5884',\n",
       " 'dr-xr-xr-x  9 root             root                           0 Sep  1 18:49 5885',\n",
       " 'dr-xr-xr-x  9 root             root                           0 Sep  1 16:46 67',\n",
       " 'dr-xr-xr-x  9 root             root                           0 Sep  1 16:46 68',\n",
       " 'dr-xr-xr-x  9 root             root                           0 Sep  1 16:46 7',\n",
       " 'dr-xr-xr-x  9 root             root                           0 Sep  1 16:46 70',\n",
       " 'dr-xr-xr-x  9 root             root                           0 Sep  1 16:46 71',\n",
       " 'dr-xr-xr-x  9 root             root                           0 Sep  1 16:46 72',\n",
       " 'dr-xr-xr-x  9 root             root                           0 Sep  1 16:46 73',\n",
       " 'dr-xr-xr-x  9 whoopsie         whoopsie                       0 Sep  1 16:46 734',\n",
       " 'dr-xr-xr-x  9 root             root                           0 Sep  1 16:46 739',\n",
       " 'dr-xr-xr-x  9 syslog           syslog                         0 Sep  1 16:46 742',\n",
       " 'dr-xr-xr-x  9 root             root                           0 Sep  1 16:46 748',\n",
       " 'dr-xr-xr-x  9 root             root                           0 Sep  1 16:46 751',\n",
       " 'dr-xr-xr-x  9 root             root                           0 Sep  1 16:46 752',\n",
       " 'dr-xr-xr-x  9 root             root                           0 Sep  1 16:46 753',\n",
       " 'dr-xr-xr-x  9 root             root                           0 Sep  1 16:46 759',\n",
       " 'dr-xr-xr-x  9 root             root                           0 Sep  1 16:46 76',\n",
       " 'dr-xr-xr-x  9 root             root                           0 Sep  1 16:46 763',\n",
       " 'dr-xr-xr-x  9 root             root                           0 Sep  1 16:46 766',\n",
       " 'dr-xr-xr-x  9 avahi            avahi                          0 Sep  1 16:46 769',\n",
       " 'dr-xr-xr-x  9 root             root                           0 Sep  1 16:46 77',\n",
       " 'dr-xr-xr-x  9 root             root                           0 Sep  1 16:46 771',\n",
       " 'dr-xr-xr-x  9 root             root                           0 Sep  1 16:46 78',\n",
       " 'dr-xr-xr-x  9 root             root                           0 Sep  1 16:46 79',\n",
       " 'dr-xr-xr-x  9 root             root                           0 Sep  1 16:46 8',\n",
       " 'dr-xr-xr-x  9 messagebus       messagebus                     0 Sep  1 16:46 825',\n",
       " 'dr-xr-xr-x  9 root             root                           0 Sep  1 16:46 855',\n",
       " 'dr-xr-xr-x  9 root             root                           0 Sep  1 16:46 86',\n",
       " 'dr-xr-xr-x  9 root             root                           0 Sep  1 16:46 885',\n",
       " 'dr-xr-xr-x  9 avahi            avahi                          0 Sep  1 16:46 887',\n",
       " 'dr-xr-xr-x  9 root             root                           0 Sep  1 16:46 9',\n",
       " 'dr-xr-xr-x  9 root             root                           0 Sep  1 16:46 904',\n",
       " 'dr-xr-xr-x  9 lp               lp                             0 Sep  1 16:46 907',\n",
       " 'dr-xr-xr-x  9 root             root                           0 Sep  1 16:46 913',\n",
       " 'dr-xr-xr-x  9 root             root                           0 Sep  1 16:46 926',\n",
       " 'dr-xr-xr-x  9 postgres         postgres                       0 Sep  1 16:46 931',\n",
       " 'dr-xr-xr-x  9 root             root                           0 Sep  1 16:46 932',\n",
       " 'dr-xr-xr-x  9 root             root                           0 Sep  1 16:46 956',\n",
       " 'dr-xr-xr-x  9 root             root                           0 Sep  1 16:46 965',\n",
       " 'dr-xr-xr-x  4 root             root                           0 Sep  1 18:49 acpi',\n",
       " 'dr-xr-xr-x  5 root             root                           0 Sep  1 18:49 asound',\n",
       " '-r--r--r--  1 root             root                           0 Sep  1 18:49 buddyinfo',\n",
       " 'dr-xr-xr-x  4 root             root                           0 Sep  1 18:49 bus',\n",
       " '-r--r--r--  1 root             root                           0 Sep  1 18:49 cgroups',\n",
       " '-r--r--r--  1 root             root                           0 Sep  1 18:49 cmdline',\n",
       " '-r--r--r--  1 root             root                           0 Sep  1 18:49 consoles',\n",
       " '-r--r--r--  1 root             root                           0 Sep  1 18:49 cpuinfo',\n",
       " '-r--r--r--  1 root             root                           0 Sep  1 18:49 crypto',\n",
       " '-r--r--r--  1 root             root                           0 Sep  1 18:49 devices',\n",
       " '-r--r--r--  1 root             root                           0 Sep  1 18:49 diskstats',\n",
       " '-r--r--r--  1 root             root                           0 Sep  1 18:49 dma',\n",
       " 'dr-xr-xr-x  2 root             root                           0 Sep  1 18:49 driver',\n",
       " '-r--r--r--  1 root             root                           0 Sep  1 18:49 execdomains',\n",
       " '-r--r--r--  1 root             root                           0 Sep  1 18:49 fb',\n",
       " '-r--r--r--  1 root             root                           0 Sep  1 18:49 filesystems',\n",
       " 'dr-xr-xr-x  4 root             root                           0 Sep  1 18:49 fs',\n",
       " '-r--r--r--  1 root             root                           0 Sep  1 18:49 interrupts',\n",
       " '-r--r--r--  1 root             root                           0 Sep  1 18:49 iomem',\n",
       " '-r--r--r--  1 root             root                           0 Sep  1 18:49 ioports',\n",
       " 'dr-xr-xr-x 27 root             root                           0 Sep  1 18:49 irq',\n",
       " '-r--r--r--  1 root             root                           0 Sep  1 18:49 kallsyms',\n",
       " '-r--------  1 root             root             140737477881856 Sep  1 18:49 kcore',\n",
       " '-r--r--r--  1 root             root                           0 Sep  1 18:49 keys',\n",
       " '-r--r--r--  1 root             root                           0 Sep  1 18:49 key-users',\n",
       " '-r--------  1 root             root                           0 Sep  1 16:46 kmsg',\n",
       " '-r--------  1 root             root                           0 Sep  1 18:49 kpagecount',\n",
       " '-r--------  1 root             root                           0 Sep  1 18:49 kpageflags',\n",
       " '-r--r--r--  1 root             root                           0 Sep  1 18:49 loadavg',\n",
       " '-r--r--r--  1 root             root                           0 Sep  1 18:49 locks',\n",
       " '-r--r--r--  1 root             root                           0 Sep  1 16:46 mdstat',\n",
       " '-r--r--r--  1 root             root                           0 Sep  1 18:49 meminfo',\n",
       " '-r--r--r--  1 root             root                           0 Sep  1 18:49 misc',\n",
       " '-r--r--r--  1 root             root                           0 Sep  1 18:49 modules',\n",
       " 'lrwxrwxrwx  1 root             root                          11 Sep  1 18:49 mounts -> self/mounts',\n",
       " '-rw-r--r--  1 root             root                           0 Sep  1 16:46 mtrr',\n",
       " 'lrwxrwxrwx  1 root             root                           8 Sep  1 18:49 net -> self/net',\n",
       " '-r--r--r--  1 root             root                           0 Sep  1 18:49 pagetypeinfo',\n",
       " '-r--r--r--  1 root             root                           0 Sep  1 18:49 partitions',\n",
       " '-r--r--r--  1 root             root                           0 Sep  1 18:49 sched_debug',\n",
       " '-r--r--r--  1 root             root                           0 Sep  1 18:49 schedstat',\n",
       " 'dr-xr-xr-x  3 root             root                           0 Sep  1 18:49 scsi',\n",
       " 'lrwxrwxrwx  1 root             root                           0 Sep  1 16:46 self -> 5885',\n",
       " '-r--------  1 root             root                           0 Sep  1 18:49 slabinfo',\n",
       " '-r--r--r--  1 root             root                           0 Sep  1 18:49 softirqs',\n",
       " '-r--r--r--  1 root             root                           0 Sep  1 18:49 stat',\n",
       " '-r--r--r--  1 root             root                           0 Sep  1 16:46 swaps',\n",
       " 'dr-xr-xr-x  1 root             root                           0 Sep  1 16:46 sys',\n",
       " '--w-------  1 root             root                           0 Sep  1 18:49 sysrq-trigger',\n",
       " 'dr-xr-xr-x  2 root             root                           0 Sep  1 18:49 sysvipc',\n",
       " 'lrwxrwxrwx  1 root             root                           0 Sep  1 16:46 thread-self -> 5885/task/5885',\n",
       " '-r--r--r--  1 root             root                           0 Sep  1 18:49 timer_list',\n",
       " '-rw-r--r--  1 root             root                           0 Sep  1 18:49 timer_stats',\n",
       " 'dr-xr-xr-x  4 root             root                           0 Sep  1 18:49 tty',\n",
       " '-r--r--r--  1 root             root                           0 Sep  1 18:49 uptime',\n",
       " '-r--r--r--  1 root             root                           0 Sep  1 18:49 version',\n",
       " '-r--r--r--  1 root             root                           0 Sep  1 18:49 version_signature',\n",
       " '-r--------  1 root             root                           0 Sep  1 18:49 vmallocinfo',\n",
       " '-r--r--r--  1 root             root                           0 Sep  1 18:49 vmstat',\n",
       " '-r--r--r--  1 root             root                           0 Sep  1 18:49 zoneinfo']"
      ]
     },
     "execution_count": 25,
     "metadata": {},
     "output_type": "execute_result"
    }
   ],
   "source": [
    "ls.splitlines()"
   ]
  },
  {
   "cell_type": "code",
   "execution_count": 26,
   "metadata": {
    "collapsed": true
   },
   "outputs": [],
   "source": [
    "import re"
   ]
  },
  {
   "cell_type": "code",
   "execution_count": 41,
   "metadata": {
    "collapsed": false
   },
   "outputs": [
    {
     "data": {
      "text/plain": [
       "['dr-xr-xr-x  4 root             root                           0 Sep  1 18:49 acpi',\n",
       " 'dr-xr-xr-x  5 root             root                           0 Sep  1 18:49 asound',\n",
       " '-r--r--r--  1 root             root                           0 Sep  1 18:49 buddyinfo',\n",
       " 'dr-xr-xr-x  4 root             root                           0 Sep  1 18:49 bus',\n",
       " '-r--r--r--  1 root             root                           0 Sep  1 18:49 cgroups',\n",
       " '-r--r--r--  1 root             root                           0 Sep  1 18:49 cmdline',\n",
       " '-r--r--r--  1 root             root                           0 Sep  1 18:49 consoles',\n",
       " '-r--r--r--  1 root             root                           0 Sep  1 18:49 cpuinfo',\n",
       " '-r--r--r--  1 root             root                           0 Sep  1 18:49 crypto',\n",
       " '-r--r--r--  1 root             root                           0 Sep  1 18:49 devices',\n",
       " '-r--r--r--  1 root             root                           0 Sep  1 18:49 diskstats',\n",
       " '-r--r--r--  1 root             root                           0 Sep  1 18:49 dma',\n",
       " 'dr-xr-xr-x  2 root             root                           0 Sep  1 18:49 driver',\n",
       " '-r--r--r--  1 root             root                           0 Sep  1 18:49 execdomains',\n",
       " '-r--r--r--  1 root             root                           0 Sep  1 18:49 fb',\n",
       " '-r--r--r--  1 root             root                           0 Sep  1 18:49 filesystems',\n",
       " 'dr-xr-xr-x  4 root             root                           0 Sep  1 18:49 fs',\n",
       " '-r--r--r--  1 root             root                           0 Sep  1 18:49 interrupts',\n",
       " '-r--r--r--  1 root             root                           0 Sep  1 18:49 iomem',\n",
       " '-r--r--r--  1 root             root                           0 Sep  1 18:49 ioports',\n",
       " 'dr-xr-xr-x 27 root             root                           0 Sep  1 18:49 irq',\n",
       " '-r--r--r--  1 root             root                           0 Sep  1 18:49 kallsyms',\n",
       " '-r--------  1 root             root             140737477881856 Sep  1 18:49 kcore',\n",
       " '-r--r--r--  1 root             root                           0 Sep  1 18:49 keys',\n",
       " '-r--r--r--  1 root             root                           0 Sep  1 18:49 key-users',\n",
       " '-r--------  1 root             root                           0 Sep  1 16:46 kmsg',\n",
       " '-r--------  1 root             root                           0 Sep  1 18:49 kpagecount',\n",
       " '-r--------  1 root             root                           0 Sep  1 18:49 kpageflags',\n",
       " '-r--r--r--  1 root             root                           0 Sep  1 18:49 loadavg',\n",
       " '-r--r--r--  1 root             root                           0 Sep  1 18:49 locks',\n",
       " '-r--r--r--  1 root             root                           0 Sep  1 16:46 mdstat',\n",
       " '-r--r--r--  1 root             root                           0 Sep  1 18:49 meminfo',\n",
       " '-r--r--r--  1 root             root                           0 Sep  1 18:49 misc',\n",
       " '-r--r--r--  1 root             root                           0 Sep  1 18:49 modules',\n",
       " 'lrwxrwxrwx  1 root             root                          11 Sep  1 18:49 mounts -> self/mounts',\n",
       " '-rw-r--r--  1 root             root                           0 Sep  1 16:46 mtrr',\n",
       " 'lrwxrwxrwx  1 root             root                           8 Sep  1 18:49 net -> self/net',\n",
       " '-r--r--r--  1 root             root                           0 Sep  1 18:49 pagetypeinfo',\n",
       " '-r--r--r--  1 root             root                           0 Sep  1 18:49 partitions',\n",
       " '-r--r--r--  1 root             root                           0 Sep  1 18:49 sched_debug',\n",
       " '-r--r--r--  1 root             root                           0 Sep  1 18:49 schedstat',\n",
       " 'dr-xr-xr-x  3 root             root                           0 Sep  1 18:49 scsi',\n",
       " '-r--------  1 root             root                           0 Sep  1 18:49 slabinfo',\n",
       " '-r--r--r--  1 root             root                           0 Sep  1 18:49 softirqs',\n",
       " '-r--r--r--  1 root             root                           0 Sep  1 18:49 stat',\n",
       " '-r--r--r--  1 root             root                           0 Sep  1 16:46 swaps',\n",
       " 'dr-xr-xr-x  1 root             root                           0 Sep  1 16:46 sys',\n",
       " '--w-------  1 root             root                           0 Sep  1 18:49 sysrq-trigger',\n",
       " 'dr-xr-xr-x  2 root             root                           0 Sep  1 18:49 sysvipc',\n",
       " '-r--r--r--  1 root             root                           0 Sep  1 18:49 timer_list',\n",
       " '-rw-r--r--  1 root             root                           0 Sep  1 18:49 timer_stats',\n",
       " 'dr-xr-xr-x  4 root             root                           0 Sep  1 18:49 tty',\n",
       " '-r--r--r--  1 root             root                           0 Sep  1 18:49 uptime',\n",
       " '-r--r--r--  1 root             root                           0 Sep  1 18:49 version',\n",
       " '-r--r--r--  1 root             root                           0 Sep  1 18:49 version_signature',\n",
       " '-r--------  1 root             root                           0 Sep  1 18:49 vmallocinfo',\n",
       " '-r--r--r--  1 root             root                           0 Sep  1 18:49 vmstat',\n",
       " '-r--r--r--  1 root             root                           0 Sep  1 18:49 zoneinfo']"
      ]
     },
     "execution_count": 41,
     "metadata": {},
     "output_type": "execute_result"
    }
   ],
   "source": [
    "re.findall(\".+[a-z]$\",ls,re.M)"
   ]
  },
  {
   "cell_type": "code",
   "execution_count": 44,
   "metadata": {
    "collapsed": false
   },
   "outputs": [
    {
     "name": "stdout",
     "output_type": "stream",
     "text": [
      "total 0\n",
      "dr-xr-xr-x 1 root root 0 Sep  1 19:00 abi\n",
      "dr-xr-xr-x 1 root root 0 Sep  1 19:00 debug\n",
      "dr-xr-xr-x 1 root root 0 Sep  1 16:48 dev\n",
      "dr-xr-xr-x 1 root root 0 Sep  1 16:46 fs\n",
      "dr-xr-xr-x 1 root root 0 Sep  1 16:46 kernel\n",
      "dr-xr-xr-x 1 root root 0 Sep  1 16:46 net\n",
      "dr-xr-xr-x 1 root root 0 Sep  1 16:46 vm\n",
      "\n"
     ]
    }
   ],
   "source": [
    "for folder in re.findall(\".+[a-z]$\",ls,re.M):\n",
    "    cmd = \"echo password | sudo -S ls -l {0}{1}\".format(\"/proc/\",folder.split()[-1])\n",
    "    if cmd.endswith('sys'):\n",
    "        print sp.check_output(cmd,shell=True)"
   ]
  },
  {
   "cell_type": "code",
   "execution_count": null,
   "metadata": {
    "collapsed": true
   },
   "outputs": [],
   "source": []
  }
 ],
 "metadata": {
  "kernelspec": {
   "display_name": "Python [Root]",
   "language": "python",
   "name": "Python [Root]"
  },
  "language_info": {
   "codemirror_mode": {
    "name": "ipython",
    "version": 2
   },
   "file_extension": ".py",
   "mimetype": "text/x-python",
   "name": "python",
   "nbconvert_exporter": "python",
   "pygments_lexer": "ipython2",
   "version": "2.7.12"
  }
 },
 "nbformat": 4,
 "nbformat_minor": 0
}
