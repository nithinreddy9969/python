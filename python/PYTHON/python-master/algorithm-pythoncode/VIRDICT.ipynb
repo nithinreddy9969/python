{
 "cells": [
  {
   "cell_type": "code",
   "execution_count": 7,
   "metadata": {
    "collapsed": false
   },
   "outputs": [
    {
     "name": "stdout",
     "output_type": "stream",
     "text": [
      "Enter sequesnce:ACGGTTAA\n",
      "Enter Stages:WER\n",
      "Looping value for W:0.1\n",
      "Looping value for E:0.2\n",
      "Looping value for R:0.3\n",
      "Stage transformation value:start->W:0.1\n",
      "Stage transformation value:W->E:0.2\n",
      "Stage transformation value:E->R:0.3\n",
      "Stage transformation value:R->End:0.4\n",
      "      0        1         2         3             4             5  \\\n",
      "W  0.25  0.00625  0.000156  0.000004  9.765625e-08  2.441406e-09   \n",
      "E  0.00  0.25000  0.006250  0.000156  3.906250e-06  9.765625e-08   \n",
      "R  0.00  0.00000  0.250000  0.006250  1.562500e-04  3.906250e-06   \n",
      "\n",
      "              6             7  \n",
      "W  6.103516e-11  1.525879e-12  \n",
      "E  2.441406e-09  6.103516e-11  \n",
      "R  9.765625e-08  2.441406e-09  \n"
     ]
    }
   ],
   "source": [
    "import pandas as pd\n",
    "import numpy as np\n",
    "import sys\n",
    "data=pd.read_csv('data.csv')\n",
    "l=['A','C','G','T']\n",
    "sequence_str=raw_input(\"Enter sequesnce:\")\n",
    "for i in sequence_str:\n",
    "    if i not in l:\n",
    "        print (\"Sequence letters should contains (ACGT)\")\n",
    "        sys.exit(0)\n",
    "sequence_list=list(sequence_str)\n",
    "stages_str=raw_input(\"Enter Stages:\")\n",
    "if len(stages_str)>3:\n",
    "    print (\"stages should not greaterthan 3\")\n",
    "    sys.exit(0)\n",
    "stages_list=list(stages_str)\n",
    "loopin_values=[]\n",
    "for i in stages_list:\n",
    "    s=float(raw_input(\"Looping value for %s:\"%i))\n",
    "    loopin_values.append(s)\n",
    "loopin_values=pd.DataFrame(data=loopin_values,index=stages_list)\n",
    "stage_transformation_values=[]\n",
    "key=\"start->%s\"%stages_list[0]\n",
    "s1=float(raw_input(\"Stage transformation value:%s:\"%key ))\n",
    "stage_transformation_values.append(s1)\n",
    "j=1\n",
    "for i in stages_list:\n",
    "     if i==stages_list[-1]:\n",
    "        break\n",
    "     key=\"%s->%s\"%(i,stages_list[j])\n",
    "     s2=float(raw_input(\"Stage transformation value:%s:\"%key))\n",
    "     stage_transformation_values.append(s2)\n",
    "     j=j+1\n",
    "key=\"%s->%s\"%(stages_list[-1],\"End\")\n",
    "s3=float(raw_input(\"Stage transformation value:%s:\"%key))\n",
    "stage_transformation_values.append(s3)\n",
    "result_df=pd.DataFrame(data=np.random.randn(len(stages_list),len(sequence_list)),index=stages_list)\n",
    "data.index=stages_list\n",
    "k=0\n",
    "stagetransfromation=1\n",
    "for i,stage in zip(result_df.index,stage_transformation_values):\n",
    "    looping=1\n",
    "    computed_value=1\n",
    "    for p in range(k):\n",
    "        result_df[result_df.columns[p]][i]=0\n",
    "    columns=result_df.columns[k:]\n",
    "    previous_column=result_df.columns[k-1]\n",
    "    for j in columns:\n",
    "        computed_value=computed_value*float(data[sequence_list[j]][i])*float(looping)*float(stagetransfromation)\n",
    "        previouscolumnpreviousindexvalue=0\n",
    "        if k>0:\n",
    "            previouscolumnpreviousindexvalue=result_df[previous_column][previous_stage]\n",
    "        exact_value=max([computed_value,previouscolumnpreviousindexvalue])\n",
    "        looping=loopin_values[0][i]\n",
    "        result_df[j][i]=exact_value\n",
    "        if k>0:\n",
    "            previous_column=j\n",
    "    previous_stage=i\n",
    "    k=k+1\n",
    "    stagetransfromation=stage\n",
    "columns_map={}\n",
    "for i,j in zip(result_df.columns,sequence_list):\n",
    "    columns_map.update({i:j})\n",
    "result_df=result_df.rename(columns_map)\n",
    "print result_df"
   ]
  },
  {
   "cell_type": "code",
   "execution_count": 30,
   "metadata": {
    "collapsed": false
   },
   "outputs": [],
   "source": [
    "l=[1,2.3]"
   ]
  },
  {
   "cell_type": "code",
   "execution_count": 25,
   "metadata": {
    "collapsed": false
   },
   "outputs": [
    {
     "data": {
      "text/plain": [
       "[1, 2.3]"
      ]
     },
     "execution_count": 25,
     "metadata": {},
     "output_type": "execute_result"
    }
   ],
   "source": [
    "l[0:]"
   ]
  },
  {
   "cell_type": "code",
   "execution_count": null,
   "metadata": {
    "collapsed": true
   },
   "outputs": [],
   "source": []
  }
 ],
 "metadata": {
  "kernelspec": {
   "display_name": "Python 2",
   "language": "python",
   "name": "python2"
  },
  "language_info": {
   "codemirror_mode": {
    "name": "ipython",
    "version": 2
   },
   "file_extension": ".py",
   "mimetype": "text/x-python",
   "name": "python",
   "nbconvert_exporter": "python",
   "pygments_lexer": "ipython2",
   "version": "2.7.11"
  }
 },
 "nbformat": 4,
 "nbformat_minor": 0
}
